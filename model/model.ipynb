{
 "cells": [
  {
   "cell_type": "markdown",
   "metadata": {},
   "source": [
    "<b>Name:</b> Natália Raymundi Pinheiro<br>\n",
    "<b>Assistance:</b> Dr. Simon Birrer<br>\n",
    "<b>Deadline:</b> February 26, 2025"
   ]
  },
  {
   "cell_type": "code",
   "execution_count": null,
   "metadata": {},
   "outputs": [],
   "source": [
    "# Set path for ease of use\n",
    "PATH = \"/Users/nataliaraymundipinheiro/Documents/Stony Brook University/Semesters/Spring 2025/PHY688/modeling_project/\""
   ]
  },
  {
   "cell_type": "markdown",
   "metadata": {},
   "source": [
    "# <u>Modeling Project:</u> Modeling a Real Hubble Space Telescope Image\n",
    "\n",
    "<b>Chosen model:</b> [DESIJ0132-1600](https://github.com/AstroBridge/BDLensing/tree/main/lens_systems/DESIJ0132-1600), from [rafeee-adnan](https://github.com/rafee-adnan) on GitHub\n",
    "\n",
    "## Imports"
   ]
  },
  {
   "cell_type": "code",
   "execution_count": null,
   "metadata": {},
   "outputs": [],
   "source": [
    "import h5py\n",
    "import matplotlib.pyplot as plt\n",
    "import numpy as np\n",
    "\n",
    "from lenstronomy"
   ]
  },
  {
   "cell_type": "markdown",
   "metadata": {},
   "source": [
    "## Loading Data from `h5` Files\n",
    "\n",
    "Load `kwargs_data` and `kwargs_psf` from `h5` files."
   ]
  },
  {
   "cell_type": "code",
   "execution_count": null,
   "metadata": {},
   "outputs": [],
   "source": [
    "with h5py.File(PATH + \"model/data/DESIJ0132-1600/DESIJ0132-1600_F140W.h5\", \"r\") as f:\n",
    "    kwargs_data = {}\n",
    "    for key in f:\n",
    "        kwargs_data[key] = f[key][()]\n",
    "\n",
    "kwargs_data"
   ]
  },
  {
   "cell_type": "code",
   "execution_count": null,
   "metadata": {},
   "outputs": [],
   "source": [
    "with h5py.File(PATH + \"model/data/DESIJ0132-1600/psf_F140W.h5\", \"r\") as f:\n",
    "    kwargs_psf = {}\n",
    "    for key in f:\n",
    "        kwargs_psf[key] = f[key][()]\n",
    "\n",
    "kwargs_psf[\"psf_type\"] = \"PIXEL\"\n",
    "kwargs_psf"
   ]
  },
  {
   "cell_type": "markdown",
   "metadata": {},
   "source": [
    "Extract `image_data` from `kwargs_data`. This will be saved as a `txt` file called `image`."
   ]
  },
  {
   "cell_type": "code",
   "execution_count": null,
   "metadata": {},
   "outputs": [],
   "source": [
    "image = kwargs_data[\"image_data\"]"
   ]
  },
  {
   "cell_type": "markdown",
   "metadata": {},
   "source": [
    "And, now, make the plot."
   ]
  },
  {
   "cell_type": "code",
   "execution_count": null,
   "metadata": {},
   "outputs": [],
   "source": [
    "fig, axes = plt.subplots(1, 2, figsize=(20, 20))\n",
    "\n",
    "axes[0].imshow(np.log10(image), origin=\"lower\", cmap=\"cubehelix\")\n",
    "axes[0].set_title(\"Image\")\n",
    "\n",
    "axes[1].imshow(np.log10(image), origin=\"lower\", cmap=\"cubehelix\")\n",
    "axes[1].set_title(\"Image with gridlines\")\n",
    "axes[1].grid(True, color=\"black\")\n",
    "\n",
    "plt.show()"
   ]
  },
  {
   "cell_type": "markdown",
   "metadata": {},
   "source": [
    "## Building a Lens Model\n",
    "\n",
    "The lens model is a union of three components: the lens galaxy's mass model, the lens galaxy's light model, and the source galaxy's light model. We give a list of profiles for each component."
   ]
  },
  {
   "cell_type": "code",
   "execution_count": null,
   "metadata": {},
   "outputs": [],
   "source": [
    "lens_model_list       = [\"EPL\", \"SHEAR\"]\n",
    "lens_light_model_list = [\"SERSIC_ELLIPSE\", \"SERSIC_ELLIPSE\"]\n",
    "source_model_list     = [\"SHAPELETS\"]"
   ]
  },
  {
   "cell_type": "markdown",
   "metadata": {},
   "source": [
    "The `'EPL'` lens mass profile stands for Elliptical Power Law. The form of this convergence profile is given by:\n",
    "\n",
    "$$\\kappa(x, y) = \\frac{3 - \\gamma}{2} \\left[ \\frac{\\theta_{\\rm E}}{\\sqrt{qx^2 + y^2 / q}} \\right]^{\\gamma - 1}$$\n",
    "\n",
    "The position angle $\\phi$ adjusts the orientation of the mass profile's major axis. The ellipticity parameters $q$ and $\\phi$ can be reformulated as \n",
    "$$e_1 = \\frac{1 - q}{1 + q} \\cos 2\\phi$$\n",
    "$$e_2 = \\frac{1 - q}{1 + q} \\sin 2\\phi$$\n",
    "\n",
    "`lenstronomy` uses $e_1$ and $e_2$ instead of $q$ and $\\phi$, because $e_1$ and $e_2$ are easier to handle in numerical optimization (for example, in MCMC).\n",
    "\n",
    "Both the lens galaxy's and the source galaxy's light profiles are modeled with Sersic function, which is given by:\n",
    "\n",
    "$$I(x, y) = I_{\\rm e} \\exp \\left[ -b_{n} \\left\\{ \\left( \\frac{\\sqrt{qx^2\n",
    "+ y^2/q}}{R_{\\rm Sersic}} \\right)^{1/n_{\\rm Sersic}} - 1 \\right\\}\n",
    "\\right]$$\n",
    "\n",
    "## Lens Modeling with `lenstronomy`\n",
    "\n",
    "### Lens Galaxy's Mass Model\n",
    "\n",
    "#### `EPL` Parameters"
   ]
  },
  {
   "cell_type": "code",
   "execution_count": null,
   "metadata": {},
   "outputs": [],
   "source": [
    "fixed_lens = []\n",
    "kwargs_lens_init = []\n",
    "kwargs_lens_sigma = []\n",
    "kwargs_lower_lens = []\n",
    "kwargs_upper_lens = []\n",
    "\n",
    "fixed_lens.append({\"gamma\": 2})\n",
    "kwargs_lens_init.append(\n",
    "    {\n",
    "        \"theta_E\": 1.4,\n",
    "        \"gamma\": 2,\n",
    "        \"e1\": -0.0749,\n",
    "        \"e2\": -0.12077,\n",
    "        \"center_x\": -0.2102,\n",
    "        \"center_y\": -0.0083,\n",
    "    }\n",
    ")\n",
    "kwargs_lens_sigma.append(\n",
    "    {\n",
    "        \"theta_E\": 0.1,\n",
    "        \"gamma\": 0.1,\n",
    "        \"e1\": 0.05,\n",
    "        \"e2\": 0.05,\n",
    "        \"center_x\": 0.5,\n",
    "        \"center_y\": 0.5,\n",
    "    }\n",
    ")\n",
    "kwargs_lower_lens.append(\n",
    "    {\n",
    "        \"theta_E\": 1,\n",
    "        \"gamma\": 1.7,\n",
    "        \"e1\": -0.5,\n",
    "        \"e2\": -0.5,\n",
    "        \"center_x\": -10,\n",
    "        \"center_y\": -10,\n",
    "    }\n",
    ")\n",
    "kwargs_upper_lens.append(\n",
    "    {\n",
    "        \"theta_E\": 10.0,\n",
    "        \"gamma\": 2.1,\n",
    "        \"e1\": 0.5,\n",
    "        \"e2\": 0.5,\n",
    "        \"center_x\": 10,\n",
    "        \"center_y\": 10,\n",
    "    }\n",
    ")"
   ]
  },
  {
   "cell_type": "markdown",
   "metadata": {},
   "source": [
    "#### SHEAR Parameters"
   ]
  },
  {
   "cell_type": "code",
   "execution_count": null,
   "metadata": {},
   "outputs": [],
   "source": [
    "fixed_lens.append({\"ra_0\": 0, \"dec_0\": 0})\n",
    "\n",
    "kwargs_lens_init.append({\"gamma1\": 0.066, \"gamma2\": -0.00263})\n",
    "kwargs_lens_sigma.append({\"gamma1\": 0.01, \"gamma2\": 0.01})\n",
    "kwargs_lower_lens.append({\"gamma1\": -0.3, \"gamma2\": -0.3})\n",
    "kwargs_upper_lens.append({\"gamma1\": 0.3, \"gamma2\": 0.3})\n",
    "\n",
    "lens_params = [\n",
    "    kwargs_lens_init,\n",
    "    kwargs_lens_sigma,\n",
    "    fixed_lens,\n",
    "    kwargs_lower_lens,\n",
    "    kwargs_upper_lens,\n",
    "]"
   ]
  },
  {
   "cell_type": "markdown",
   "metadata": {},
   "source": [
    "### Source Galaxy's Light Model\n",
    "\n",
    "#### Sérsic Ellipse Parameters"
   ]
  },
  {
   "cell_type": "code",
   "execution_count": 7,
   "metadata": {},
   "outputs": [
    {
     "data": {
      "text/plain": [
       "'\\nfixed_source.append({\"n_sersic\": 1.0})\\nkwargs_source_init.append(\\n    {\\n        \"R_sersic\": 0.002,\\n        \"n_sersic\": 1,\\n        \"e1\": 0.9960,\\n        \"e2\": -0.1501,\\n        \"center_x\": -0.5247,\\n        \"center_y\": -0.0455,\\n        \"amp\": 1,\\n    }\\n)\\nkwargs_source_sigma.append(\\n    {\\n        \"n_sersic\": 0.5,\\n        \"R_sersic\": 0.001,\\n        \"e1\": 0.05,\\n        \"e2\": 0.05,\\n        \"center_x\": 0.2,\\n        \"center_y\": 0.2,\\n        \"amp\": 1,\\n    }\\n)\\nkwargs_lower_source.append(\\n    {\\n        \"e1\": -0.5,\\n        \"e2\": -0.5,\\n        \"R_sersic\": 0.001,\\n        \"n_sersic\": 0.5,\\n        \"center_x\": -10,\\n        \"center_y\": -10,\\n        \"amp\": 0,\\n    }\\n)\\nkwargs_upper_source.append(\\n    {\\n        \"e1\": 1,\\n        \"e2\": 1,\\n        \"R_sersic\": 0.2,\\n        \"n_sersic\": 5.0,\\n        \"center_x\": 10,\\n        \"center_y\": 10,\\n        \"amp\": 100,\\n    }\\n)\\n'"
      ]
     },
     "execution_count": 7,
     "metadata": {},
     "output_type": "execute_result"
    }
   ],
   "source": [
    "\"\"\"\n",
    "fixed_source.append({\"n_sersic\": 1.0})\n",
    "kwargs_source_init.append(\n",
    "    {\n",
    "        \"R_sersic\": 0.002,\n",
    "        \"n_sersic\": 1,\n",
    "        \"e1\": 0.9960,\n",
    "        \"e2\": -0.1501,\n",
    "        \"center_x\": -0.5247,\n",
    "        \"center_y\": -0.0455,\n",
    "        \"amp\": 1,\n",
    "    }\n",
    ")\n",
    "kwargs_source_sigma.append(\n",
    "    {\n",
    "        \"n_sersic\": 0.5,\n",
    "        \"R_sersic\": 0.001,\n",
    "        \"e1\": 0.05,\n",
    "        \"e2\": 0.05,\n",
    "        \"center_x\": 0.2,\n",
    "        \"center_y\": 0.2,\n",
    "        \"amp\": 1,\n",
    "    }\n",
    ")\n",
    "kwargs_lower_source.append(\n",
    "    {\n",
    "        \"e1\": -0.5,\n",
    "        \"e2\": -0.5,\n",
    "        \"R_sersic\": 0.001,\n",
    "        \"n_sersic\": 0.5,\n",
    "        \"center_x\": -10,\n",
    "        \"center_y\": -10,\n",
    "        \"amp\": 0,\n",
    "    }\n",
    ")\n",
    "kwargs_upper_source.append(\n",
    "    {\n",
    "        \"e1\": 1,\n",
    "        \"e2\": 1,\n",
    "        \"R_sersic\": 0.2,\n",
    "        \"n_sersic\": 5.0,\n",
    "        \"center_x\": 10,\n",
    "        \"center_y\": 10,\n",
    "        \"amp\": 100,\n",
    "    }\n",
    ")\n",
    "\"\"\""
   ]
  },
  {
   "cell_type": "markdown",
   "metadata": {},
   "source": [
    "### SHAPELETS Parameters"
   ]
  },
  {
   "cell_type": "code",
   "execution_count": 8,
   "metadata": {},
   "outputs": [],
   "source": [
    "fixed_source = []\n",
    "kwargs_source_init = []\n",
    "kwargs_source_sigma = []\n",
    "kwargs_lower_source = []\n",
    "kwargs_upper_source = []\n",
    "\n",
    "\n",
    "fixed_source.append({\"n_max\": 10})\n",
    "\n",
    "kwargs_source_init.append({\"center_x\": -0.5522, \"center_y\": 0.045511, \"beta\": 0.07})\n",
    "kwargs_source_sigma.append({\"center_x\": 0.2, \"center_y\": 0.2, \"beta\": 0.001})\n",
    "kwargs_lower_source.append({\"center_x\": -10, \"center_y\": -10, \"beta\": 0.001})\n",
    "kwargs_upper_source.append({\"center_x\": 10, \"center_y\": 10, \"beta\": 0.2})\n",
    "\n",
    "source_params = [\n",
    "    kwargs_source_init,\n",
    "    kwargs_source_sigma,\n",
    "    fixed_source,\n",
    "    kwargs_lower_source,\n",
    "    kwargs_upper_source,\n",
    "]\n",
    "\n",
    "# joint_shapelets_with_sersic = [[0, 1, [\"center_x\", \"center_y\"]]]"
   ]
  },
  {
   "cell_type": "markdown",
   "metadata": {},
   "source": [
    "### Lens Galaxy's Light Model\n",
    "\n",
    "#### First SERSIC Ellipse Parameter"
   ]
  },
  {
   "cell_type": "code",
   "execution_count": null,
   "metadata": {},
   "outputs": [],
   "source": [
    "fixed_lens_light = []\n",
    "kwargs_lens_light_init = []\n",
    "kwargs_lens_light_sigma = []\n",
    "kwargs_lower_lens_light = []\n",
    "kwargs_upper_lens_light = []\n",
    "\n",
    "fixed_lens_light.append({\"n_sersic\": 1.0})\n",
    "\n",
    "kwargs_lens_light_init.append(\n",
    "    {\n",
    "        \"R_sersic\": 1.8705,\n",
    "        \"n_sersic\": 2,\n",
    "        \"e1\": -0.1897,\n",
    "        \"e2\": -0.115,\n",
    "        \"center_x\": -0.255,\n",
    "        \"center_y\": -0.0594,\n",
    "        \"amp\": 16,\n",
    "    }\n",
    ")\n",
    "kwargs_lens_light_sigma.append(\n",
    "    {\n",
    "        \"n_sersic\": 1,\n",
    "        \"R_sersic\": 0.3,\n",
    "        \"e1\": 0.05,\n",
    "        \"e2\": 0.05,\n",
    "        \"center_x\": 0.1,\n",
    "        \"center_y\": 0.1,\n",
    "        \"amp\": 1,\n",
    "    }\n",
    ")\n",
    "kwargs_lower_lens_light.append(\n",
    "    {\n",
    "        \"e1\": -0.5,\n",
    "        \"e2\": -0.5,\n",
    "        \"R_sersic\": 0.001,\n",
    "        \"n_sersic\": 0.5,\n",
    "        \"center_x\": -10,\n",
    "        \"center_y\": -10,\n",
    "        \"amp\": 0,\n",
    "    }\n",
    ")\n",
    "kwargs_upper_lens_light.append(\n",
    "    {\n",
    "        \"e1\": 0.5,\n",
    "        \"e2\": 0.5,\n",
    "        \"R_sersic\": 10,\n",
    "        \"n_sersic\": 5.0,\n",
    "        \"center_x\": 10,\n",
    "        \"center_y\": 10,\n",
    "        \"amp\": 100,\n",
    "    }\n",
    ")"
   ]
  },
  {
   "cell_type": "markdown",
   "metadata": {},
   "source": [
    "#### Second SERSIC Ellipse PArameters"
   ]
  },
  {
   "cell_type": "code",
   "execution_count": null,
   "metadata": {},
   "outputs": [],
   "source": [
    "fixed_lens_light.append({\"n_sersic\": 4.0})\n",
    "\n",
    "kwargs_lens_light_init.append(\n",
    "    {\n",
    "        \"R_sersic\": 0.5280,\n",
    "        \"n_sersic\": 2,\n",
    "        \"e1\": -0.0355,\n",
    "        \"e2\": -0.0266,\n",
    "        \"center_x\": -0.2554,\n",
    "        \"center_y\": -0.059,\n",
    "        \"amp\": 16,\n",
    "    }\n",
    ")\n",
    "kwargs_lens_light_sigma.append(\n",
    "    {\n",
    "        \"n_sersic\": 1,\n",
    "        \"R_sersic\": 0.3,\n",
    "        \"e1\": 0.05,\n",
    "        \"e2\": 0.05,\n",
    "        \"center_x\": 0.1,\n",
    "        \"center_y\": 0.1,\n",
    "        \"amp\": 1,\n",
    "    }\n",
    ")\n",
    "kwargs_lower_lens_light.append(\n",
    "    {\n",
    "        \"e1\": -0.5,\n",
    "        \"e2\": -0.5,\n",
    "        \"R_sersic\": 0.001,\n",
    "        \"n_sersic\": 0.5,\n",
    "        \"center_x\": -10,\n",
    "        \"center_y\": -10,\n",
    "        \"amp\": 0,\n",
    "    }\n",
    ")\n",
    "kwargs_upper_lens_light.append(\n",
    "    {\n",
    "        \"e1\": 0.5,\n",
    "        \"e2\": 0.5,\n",
    "        \"R_sersic\": 10,\n",
    "        \"n_sersic\": 5.0,\n",
    "        \"center_x\": 10,\n",
    "        \"center_y\": 10,\n",
    "        \"amp\": 100,\n",
    "    }\n",
    ")\n",
    "\n",
    "joint_lens_light_with_lens_light = [[0, 1, [\"center_x\", \"center_y\", \"e1\", \"e2\"]]]\n",
    "\n",
    "lens_light_params = [\n",
    "    kwargs_lens_light_init,\n",
    "    kwargs_lens_light_sigma,\n",
    "    fixed_lens_light,\n",
    "    kwargs_lower_lens_light,\n",
    "    kwargs_upper_lens_light,\n",
    "]"
   ]
  },
  {
   "cell_type": "markdown",
   "metadata": {},
   "source": []
  }
 ],
 "metadata": {
  "kernelspec": {
   "display_name": "Python 3 (ipykernel)",
   "language": "python",
   "name": "python3"
  },
  "language_info": {
   "codemirror_mode": {
    "name": "ipython",
    "version": 3
   },
   "file_extension": ".py",
   "mimetype": "text/x-python",
   "name": "python",
   "nbconvert_exporter": "python",
   "pygments_lexer": "ipython3",
   "version": "3.12.2"
  }
 },
 "nbformat": 4,
 "nbformat_minor": 2
}
